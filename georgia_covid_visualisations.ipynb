{
 "cells": [
  {
   "cell_type": "code",
   "execution_count": null,
   "metadata": {},
   "outputs": [],
   "source": [
    "import matplotlib.pyplot as plt\n",
    "import pandas as pd\n",
    "\n",
    "# Data\n",
    "dates = pd.date_range(start='2020-04-26', periods=14)\n",
    "cobb = [35, 55, 75, 40, 50, 65, 30, 15, 35, 30, 40, 20, 5, 2]\n",
    "dekalb = [45, 60, 90, 55, 60, 40, 40, 30, 45, 40, 50, 35, 15, 5]\n",
    "fulton = [55, 85, 110, 70, 85, 50, 60, 40, 60, 50, 70, 95, 20, 5]\n",
    "gwinnett = [50, 65, 105, 85, 70, 45, 55, 35, 50, 45, 65, 40, 15, 3]\n",
    "hall = [60, 75, 170, 95, 90, 55, 70, 45, 65, 60, 80, 50, 25, 8]\n",
    "\n",
    "# Create DataFrame\n",
    "data = {\n",
    "    'Date': dates,\n",
    "    'Cobb': cobb,\n",
    "    'DeKalb': dekalb,\n",
    "    'Fulton': fulton,\n",
    "    'Gwinnett': gwinnett,\n",
    "    'Hall': hall\n",
    "}\n",
    "df = pd.DataFrame(data)\n",
    "df.set_index('Date', inplace=True)\n",
    "\n",
    "# Plot\n",
    "ax = df.plot(kind='bar', stacked=True, figsize=(14, 8), colormap='tab20')\n",
    "plt.title('Daily Confirmed COVID-19 Cases by County (26 Apr 2020 - 09 May 2020)')\n",
    "plt.xlabel('Date')\n",
    "plt.ylabel('Number of Cases')\n",
    "plt.legend(title='County')\n",
    "plt.xticks(rotation=45)\n",
    "plt.tight_layout()\n",
    "plt.show()"
   ]
  }
 ],
 "metadata": {
  "language_info": {
   "name": "python"
  }
 },
 "nbformat": 4,
 "nbformat_minor": 2
}
